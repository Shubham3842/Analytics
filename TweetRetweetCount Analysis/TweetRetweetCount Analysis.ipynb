{
 "cells": [
  {
   "cell_type": "code",
   "execution_count": 1,
   "metadata": {},
   "outputs": [],
   "source": [
    "import pandas as pd\n",
    "import warnings \n",
    "warnings.filterwarnings('ignore')\n",
    "import xgboost as xg\n",
    "from sklearn.metrics import mean_squared_error as MSE \n",
    "import numpy as np\n",
    "from sklearn.model_selection import train_test_split"
   ]
  },
  {
   "cell_type": "code",
   "execution_count": null,
   "metadata": {},
   "outputs": [],
   "source": [
    "df = pd.read_excel('tweets.xlsx') # Loading the data"
   ]
  },
  {
   "cell_type": "code",
   "execution_count": null,
   "metadata": {},
   "outputs": [],
   "source": [
    "df.head(2) #Viewing the data just to understand columns and column values"
   ]
  },
  {
   "cell_type": "code",
   "execution_count": null,
   "metadata": {},
   "outputs": [],
   "source": [
    "# Comparing scatter plot in order to check linearity in data which is not present. Hence, we cannot go\n",
    "# for Linear regression model\n",
    "ax1 = df.plot.scatter(x='UserTweetCount',\n",
    "                      y='TweetRetweetCount')\n",
    "ax2 = df.plot.scatter(x='TweetFavoritesCount',\n",
    "                      y='TweetRetweetCount')\n",
    "ax3 = df.plot.scatter(x='UserFollowersCount',\n",
    "                      y='TweetRetweetCount')\n",
    "ax4 = df.plot.scatter(x='UserFriendsCount',\n",
    "                      y='TweetRetweetCount')\n",
    "ax5 = df.plot.scatter(x='UserListedCount',\n",
    "                      y='TweetRetweetCount')"
   ]
  },
  {
   "cell_type": "code",
   "execution_count": null,
   "metadata": {},
   "outputs": [],
   "source": [
    "# dropping not so useful columns from dataframe like Id's.\n",
    "df.drop(columns=['TweetInReplyToStatusID','TweetInReplyToUserID',\n",
    "                'UserID','MacroIterationNumber','TweetPlaceAttributes',\n",
    "                'TweetPlaceContainedWithin'],inplace=True)\n",
    "df.corr()"
   ]
  },
  {
   "cell_type": "code",
   "execution_count": null,
   "metadata": {},
   "outputs": [],
   "source": [
    "# Converting all boolean values to 0 or 1 to be represented to make it ready for model input\n",
    "df['TweetRetweetFlag']=df['TweetRetweetFlag'].map(lambda x:str(x).lower())\n",
    "df['TweetRetweetFlag']=df['TweetRetweetFlag'].map(lambda x:1 if x=='true' else 0)"
   ]
  },
  {
   "cell_type": "code",
   "execution_count": null,
   "metadata": {},
   "outputs": [],
   "source": [
    "# Created functions for bining the data in different class. Since most of the retweets happened at \n",
    "# lower end so giving higher weightage to value less than 500 and subsequently decreasing\n",
    "def bining(x):\n",
    "    if x < 500:\n",
    "        return 5\n",
    "    elif x>=500 and x<1000:\n",
    "        return 4\n",
    "    elif x>=1000 and x<2000:\n",
    "        return 3\n",
    "    elif x>=2000 and x< 3000:\n",
    "        return 2\n",
    "    else:\n",
    "        return 1"
   ]
  },
  {
   "cell_type": "code",
   "execution_count": null,
   "metadata": {},
   "outputs": [],
   "source": [
    "# using above function to function to convert into bins\n",
    "df['TweetFavoritesCount']=df['TweetFavoritesCount'].apply(bining)\n",
    "df['UserFollowersCount']=df['UserFollowersCount'].apply(bining)\n",
    "df['UserFriendsCount']=df['UserFriendsCount'].apply(bining)\n",
    "df['UserListedCount']=df['UserListedCount'].apply(bining)\n",
    "df['UserTweetCount']=df['UserTweetCount'].apply(bining)"
   ]
  },
  {
   "cell_type": "code",
   "execution_count": null,
   "metadata": {},
   "outputs": [],
   "source": [
    "# created function to see of hashtags used. Generally,tweets with Hashtags as only 'travel' have higher\n",
    "# number of retweets\n",
    "def hashtag(x):\n",
    "    try:\n",
    "        if x.count(',')==0 and str(x).lower()=='travel':\n",
    "            return 1\n",
    "        else:\n",
    "            return 0\n",
    "    except:\n",
    "        return 0"
   ]
  },
  {
   "cell_type": "code",
   "execution_count": null,
   "metadata": {},
   "outputs": [],
   "source": [
    "df['TweetHashtags']=df['TweetHashtags'].apply(hashtag)"
   ]
  },
  {
   "cell_type": "code",
   "execution_count": null,
   "metadata": {},
   "outputs": [],
   "source": [
    "x = df[['TweetRetweetFlag','TweetFavoritesCount','UserFollowersCount',\n",
    "       'UserFriendsCount','UserListedCount','UserTweetCount','TweetHashtags']]\n",
    "y = df['TweetRetweetCount']"
   ]
  },
  {
   "cell_type": "code",
   "execution_count": null,
   "metadata": {},
   "outputs": [],
   "source": [
    "# Splitting data in 70:30 :: train: test\n",
    "X_train,X_test,y_train,y_test = train_test_split(x,y,test_size=0.3)"
   ]
  },
  {
   "cell_type": "code",
   "execution_count": null,
   "metadata": {},
   "outputs": [],
   "source": [
    "# Applying XGBoost regressor to train and using RMSE to valid quality of model\n",
    "xgb_r = xg.XGBRegressor(objective ='reg:squarederror', \n",
    "                  n_estimators = 10, seed = 123) \n",
    "  \n",
    "# Fitting the model \n",
    "xgb_r.fit(X_train, y_train) \n",
    "  \n",
    "# Predict the model \n",
    "pred = xgb_r.predict(X_test) \n",
    "  \n",
    "# RMSE Computation \n",
    "rmse = np.sqrt(MSE(y_test, pred)) \n",
    "print(\"RMSE : % f\" %(rmse)) "
   ]
  },
  {
   "cell_type": "markdown",
   "metadata": {},
   "source": [
    "### Reference:\n",
    ">- https://medium.com/@teenageop/retweet-count-prediction-based-on-movie-tweets-c6ee7082c2ac"
   ]
  }
 ],
 "metadata": {
  "kernelspec": {
   "display_name": "Python 3",
   "language": "python",
   "name": "python3"
  },
  "language_info": {
   "codemirror_mode": {
    "name": "ipython",
    "version": 3
   },
   "file_extension": ".py",
   "mimetype": "text/x-python",
   "name": "python",
   "nbconvert_exporter": "python",
   "pygments_lexer": "ipython3",
   "version": "3.8.5"
  }
 },
 "nbformat": 4,
 "nbformat_minor": 4
}
